{
 "cells": [
  {
   "cell_type": "code",
   "execution_count": null,
   "id": "caa33f95",
   "metadata": {},
   "outputs": [],
   "source": [
    "from torchvision import transforms\n",
    "from torchvision.datasets import MNIST\n",
    "import torch\n",
    "from torch import nn, optim\n",
    "import matplotlib.pyplot as plt\n",
    "import numpy as np\n",
    "from tqdm.notebook import tqdm\n",
    "from torch.autograd.variable import Variable"
   ]
  },
  {
   "cell_type": "markdown",
   "id": "ebec0c30",
   "metadata": {},
   "source": [
    "# MNIST Dataset"
   ]
  },
  {
   "cell_type": "code",
   "execution_count": null,
   "id": "0ad45627",
   "metadata": {},
   "outputs": [],
   "source": [
    "download_root = './data'"
   ]
  },
  {
   "cell_type": "code",
   "execution_count": null,
   "id": "3dba21a7",
   "metadata": {},
   "outputs": [],
   "source": [
    "mnist_transform = transforms.Compose([\n",
    "    transforms.ToTensor(), # 데이터를 파이토치 Tensor 형식으로 변환\n",
    "    transforms.Normalize((0.5,), (0.5,)) # -1 ~ 1 사이의 값으로 Normalize\n",
    "])"
   ]
  },
  {
   "cell_type": "code",
   "execution_count": null,
   "id": "af3230d8",
   "metadata": {
    "scrolled": true
   },
   "outputs": [],
   "source": [
    "train_dataset = MNIST(download_root, transform=mnist_transform, train=True, download=True)\n",
    "valid_dataset = MNIST(download_root, transform=mnist_transform, train=False, download=True)\n",
    "test_dataset = MNIST(download_root, transform=mnist_transform, train=False, download=True)"
   ]
  },
  {
   "cell_type": "markdown",
   "id": "fdbad574",
   "metadata": {},
   "source": [
    "# Hyperparameter\n",
    "\n",
    "- **batch_size** : 배치 사이즈\n",
    "- **epochs** : Learning Epochs\n",
    "- **lr_D** : Discriminator의 learning rate\n",
    "- **lr_G** : Generator의 learning rate\n",
    "- **dropout_ratio** : Discriminator와 Generator의 dropout ratio\n",
    "- **betas** : optimizer의 coefficients"
   ]
  },
  {
   "cell_type": "code",
   "execution_count": null,
   "id": "463446a4",
   "metadata": {},
   "outputs": [],
   "source": [
    "batch_size = 128\n",
    "epochs = 100\n",
    "lr_D = 2e-4\n",
    "lr_G = 2e-4\n",
    "dropout_ratio = 0.3\n",
    "betas = (0.5, 0.999)"
   ]
  },
  {
   "cell_type": "code",
   "execution_count": null,
   "id": "8ee70777",
   "metadata": {},
   "outputs": [],
   "source": [
    "from torch.utils.data import DataLoader"
   ]
  },
  {
   "cell_type": "code",
   "execution_count": null,
   "id": "26bfe000",
   "metadata": {},
   "outputs": [],
   "source": [
    "train_loader = DataLoader(dataset=train_dataset, batch_size=batch_size, shuffle=True)\n",
    "\n",
    "valid_loader = DataLoader(dataset=valid_dataset, batch_size=batch_size, shuffle=True)\n",
    "\n",
    "test_loader = DataLoader(dataset=test_dataset, batch_size=batch_size, shuffle=True)"
   ]
  },
  {
   "cell_type": "code",
   "execution_count": null,
   "id": "ad3a7962",
   "metadata": {},
   "outputs": [],
   "source": [
    "def plot_digit(x, y=None, n_rows=2, n_cols=5):\n",
    "    n = n_rows*n_cols\n",
    "    \n",
    "    x = x / 2 + 0.5\n",
    "    x = x.view(-1, 28, 28)\n",
    "    x = x * 255\n",
    "    \n",
    "    x = x.numpy()\n",
    "    \n",
    "    x = x[:n]\n",
    "    if y is not None:\n",
    "        y = y[:n]\n",
    "    \n",
    "    fig, axes = plt.subplots(n_rows, n_cols, figsize=(1.5*n_cols, 2*n_rows))\n",
    "    \n",
    "    for i in range(n):\n",
    "        if len(x) <= i:\n",
    "            break\n",
    "        ax = axes[i//n_cols, i%n_cols]\n",
    "        ax.imshow(x[i], cmap='gray')\n",
    "        if y is not None:\n",
    "            ax.set_title(f'Label: {y[i]}')\n",
    "            \n",
    "    plt.show()"
   ]
  },
  {
   "cell_type": "code",
   "execution_count": null,
   "id": "e636dca2",
   "metadata": {},
   "outputs": [],
   "source": [
    "for i, (x, y) in enumerate(train_loader):\n",
    "    plot_digit(x, y, 2, 5)\n",
    "    break"
   ]
  },
  {
   "cell_type": "markdown",
   "id": "a5a2aee7",
   "metadata": {},
   "source": [
    "# Model"
   ]
  },
  {
   "cell_type": "code",
   "execution_count": null,
   "id": "6a594537",
   "metadata": {},
   "outputs": [],
   "source": [
    "def init_weights(m):\n",
    "    if isinstance(m, nn.Linear):\n",
    "        torch.nn.init.xavier_uniform_(m.weight)\n",
    "        m.bias.data.fill_(0.01)"
   ]
  },
  {
   "cell_type": "code",
   "execution_count": null,
   "id": "bf942a21",
   "metadata": {},
   "outputs": [],
   "source": [
    "class Generator(nn.Module):\n",
    "    def __init__(self, input_dim, hidden_layers, output_dim, output_channel, dropout_ratio):\n",
    "        super(Generator, self).__init__()\n",
    "        \n",
    "        hidden_layers = [input_dim, *hidden_layers]\n",
    "        \n",
    "        self.output_dim = output_dim\n",
    "        self.output_channel = output_channel\n",
    "        \n",
    "        self.hidden_layers = nn.ModuleList([\n",
    "            nn.Sequential(\n",
    "                nn.Linear(hidden_layers[i], hidden_layers[i+1]),\n",
    "                nn.LeakyReLU(0.2),\n",
    "                nn.Dropout(p=dropout_ratio)\n",
    "            ) for i in range(len(hidden_layers)-1)])\n",
    "        self.output_layer = nn.Linear(hidden_layers[-1], output_dim*output_channel)\n",
    "        self.tanh = nn.Tanh()\n",
    "        \n",
    "        for layer in self.hidden_layers:\n",
    "            layer.apply(init_weights)\n",
    "        \n",
    "    def forward(self, x):\n",
    "        # x: [batch_size, input_dim]\n",
    "        \n",
    "        # x: [batch_size, hidden_layers[-1]]\n",
    "        for i, layer in enumerate(self.hidden_layers):\n",
    "            x = layer(x)\n",
    "            \n",
    "        # x: [batch_size, ouput_dim*output_channel]\n",
    "        # x: [batch_size, ouput_dim*output_channel]\n",
    "        x = self.output_layer(x)\n",
    "        x = self.tanh(x)\n",
    "        \n",
    "        # x: [batch_size, output_channel, output_dim]\n",
    "        if type(self.output_dim) == int:\n",
    "            x = x.view(-1, self.output_channel, self.output_dim)\n",
    "        else:\n",
    "            x = x.view(-1, self.output_channel, *self.output_dim)\n",
    "            \n",
    "        return x"
   ]
  },
  {
   "cell_type": "code",
   "execution_count": null,
   "id": "0a69787e",
   "metadata": {},
   "outputs": [],
   "source": [
    "class Discriminator(nn.Module):\n",
    "    def __init__(self, input_dim, input_channel, hidden_layers, dropout_ratio):\n",
    "        super(Discriminator, self).__init__()\n",
    "        \n",
    "        if type(input_dim) == tuple:\n",
    "            input_dim = np.prod(input_dim)\n",
    "            \n",
    "        hidden_layers = [input_dim*input_channel, *hidden_layers]\n",
    "        \n",
    "        self.input_dim = input_dim\n",
    "        self.input_channel = input_channel\n",
    "        \n",
    "        self.hidden_layers = nn.ModuleList([\n",
    "            nn.Sequential(\n",
    "                nn.Linear(hidden_layers[i], hidden_layers[i+1]),\n",
    "                nn.LeakyReLU(0.2),\n",
    "                nn.Dropout(p=dropout_ratio)\n",
    "            ) for i in range(len(hidden_layers)-1)])\n",
    "        self.output_layer = nn.Linear(hidden_layers[-1], 1)\n",
    "        self.sigmoid = nn.Sigmoid()\n",
    "        \n",
    "        for layer in self.hidden_layers:\n",
    "            layer.apply(init_weights)\n",
    "        \n",
    "    def forward(self, x):\n",
    "        # x: [batch_size, input_channel, input_dim]\n",
    "        \n",
    "        # x: [batch_size, input_channel*input_dim]\n",
    "        x = x.view(-1, self.input_channel*self.input_dim)\n",
    "        \n",
    "        # x: [batch_size, hidden_layers[-1]]\n",
    "        for i, layer in enumerate(self.hidden_layers):\n",
    "            x = layer(x)\n",
    "        \n",
    "        # x: [batch_size, 1]\n",
    "        # x: [batch_size, 1]\n",
    "        x = self.output_layer(x)\n",
    "        x = self.sigmoid(x)\n",
    "        \n",
    "        return x"
   ]
  },
  {
   "cell_type": "markdown",
   "id": "6cf87b81",
   "metadata": {},
   "source": [
    "# Training"
   ]
  },
  {
   "cell_type": "code",
   "execution_count": null,
   "id": "1794ccad",
   "metadata": {},
   "outputs": [],
   "source": [
    "generator = Generator(input_dim=100, hidden_layers=[256,512,1024], \n",
    "                      output_dim=(28*28), output_channel=1, dropout_ratio=dropout_ratio)\n",
    "discriminator = Discriminator(input_dim=(28*28), input_channel=1, \n",
    "                              hidden_layers=[1024,512,256], dropout_ratio=dropout_ratio)"
   ]
  },
  {
   "cell_type": "code",
   "execution_count": null,
   "id": "1e95c9b5",
   "metadata": {},
   "outputs": [],
   "source": [
    "device = torch.device('cuda' if torch.cuda.is_available() else 'cpu')\n",
    "\n",
    "optimizer_G = torch.optim.Adam(generator.parameters(), lr=lr_G, betas=betas)\n",
    "optimizer_D = torch.optim.Adam(discriminator.parameters(), lr=lr_D, betas=betas)\n",
    "loss_func = nn.BCELoss()"
   ]
  },
  {
   "cell_type": "code",
   "execution_count": null,
   "id": "b74fa098",
   "metadata": {},
   "outputs": [],
   "source": [
    "generator = generator.to(device)\n",
    "discriminator = discriminator.to(device)"
   ]
  },
  {
   "cell_type": "code",
   "execution_count": null,
   "id": "dc857edd",
   "metadata": {
    "scrolled": false
   },
   "outputs": [],
   "source": [
    "train_loss_D, valid_loss_D = [], []\n",
    "train_loss_G, valid_loss_G = [], []\n",
    "\n",
    "for epoch in tqdm(range(epochs), desc='Epoch'):\n",
    "    print(f'[Epoch: {epoch}]')\n",
    "    \n",
    "    generator.train()\n",
    "    discriminator.train()\n",
    "    \n",
    "    losses_D = []\n",
    "    losses_G = []\n",
    "    \n",
    "    # Train Network\n",
    "    for xb, _ in tqdm(train_loader):\n",
    "        bs = len(xb)\n",
    "        xb = xb.to(device)\n",
    "\n",
    "        target_real = Variable(torch.ones(bs, 1)).to(device)\n",
    "        target_fake = Variable(torch.zeros(bs, 1)).to(device)\n",
    "        \n",
    "        # Update Discriminator\n",
    "        predicted = discriminator(xb)\n",
    "        loss_D_real = loss_func(predicted, target_real)\n",
    "        \n",
    "        noise = Variable(torch.randn(bs, 100)).to(device)\n",
    "        xb_fake = generator(noise)\n",
    "        predicted = discriminator(xb_fake)\n",
    "        loss_D_fake = loss_func(predicted, target_fake)\n",
    "        \n",
    "        loss_D = loss_D_real + loss_D_fake\n",
    "        losses_D.append(loss_D.item())\n",
    "        \n",
    "        optimizer_D.zero_grad()\n",
    "        loss_D.backward()\n",
    "        optimizer_D.step()\n",
    "        \n",
    "        # Update Generator\n",
    "        noise = Variable(torch.randn(bs, 100)).to(device)\n",
    "        xb_fake = generator(noise)\n",
    "        predicted = discriminator(xb_fake)\n",
    "        loss_G = loss_func(predicted, target_real)\n",
    "        losses_G.append(loss_G.item())\n",
    "        \n",
    "        optimizer_G.zero_grad()\n",
    "        loss_G.backward()\n",
    "        optimizer_G.step()\n",
    "    \n",
    "    avg_loss_D = sum(losses_D) / len(losses_D)\n",
    "    avg_loss_G = sum(losses_G) / len(losses_G)\n",
    "    print(f'[TRAIN] avg_loss_G: {avg_loss_G:.5f}, avg_loss_D: {avg_loss_D:.5f}')\n",
    "    \n",
    "    generator.eval()\n",
    "    discriminator.eval()\n",
    "    \n",
    "    losses_D = []\n",
    "    losses_G = []\n",
    "    \n",
    "    # Validate Network\n",
    "    with torch.no_grad():\n",
    "        for i, (xb, _) in enumerate(tqdm(valid_loader)):\n",
    "            bs = len(xb)\n",
    "            xb = xb.to(device)\n",
    "\n",
    "            target_real = Variable(torch.ones(bs, 1)).to(device)\n",
    "            target_fake = Variable(torch.zeros(bs, 1)).to(device)\n",
    "            \n",
    "            predicted = discriminator(xb)\n",
    "            loss_D_real = loss_func(predicted, target_real)\n",
    "            \n",
    "            noise = Variable(torch.randn(bs, 100)).to(device)\n",
    "            xb_fake = generator(noise)\n",
    "            predicted = discriminator(xb_fake)\n",
    "            loss_D_fake = loss_func(predicted, target_fake)\n",
    "            \n",
    "            loss_D = loss_D_real + loss_D_fake\n",
    "            loss_G = loss_func(predicted, target_real)\n",
    "            \n",
    "            losses_D.append(loss_D.item())\n",
    "            losses_G.append(loss_G.item())\n",
    "            \n",
    "            if i==0:\n",
    "                plot_digit(xb_fake.cpu(), n_rows=2, n_cols=5)\n",
    "            \n",
    "    avg_loss_D = sum(losses_D) / len(losses_D)\n",
    "    avg_loss_G = sum(losses_G) / len(losses_G)\n",
    "    print(f'[VALID] avg_loss_G: {avg_loss_G:.5f}, avg_loss_D: {avg_loss_D:.5f}')"
   ]
  }
 ],
 "metadata": {
  "kernelspec": {
   "display_name": "Python 3",
   "language": "python",
   "name": "python3"
  },
  "language_info": {
   "codemirror_mode": {
    "name": "ipython",
    "version": 3
   },
   "file_extension": ".py",
   "mimetype": "text/x-python",
   "name": "python",
   "nbconvert_exporter": "python",
   "pygments_lexer": "ipython3",
   "version": "3.8.10"
  }
 },
 "nbformat": 4,
 "nbformat_minor": 5
}
